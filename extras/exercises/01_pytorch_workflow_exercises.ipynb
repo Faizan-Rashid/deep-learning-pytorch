{
  "nbformat": 4,
  "nbformat_minor": 0,
  "metadata": {
    "colab": {
      "name": "01_pytorch_workflow_exercises.ipynb",
      "provenance": [],
      "include_colab_link": true
    },
    "kernelspec": {
      "name": "python3",
      "display_name": "Python 3"
    },
    "language_info": {
      "name": "python"
    }
  },
  "cells": [
    {
      "cell_type": "markdown",
      "metadata": {
        "id": "view-in-github",
        "colab_type": "text"
      },
      "source": [
        "<a href=\"https://colab.research.google.com/github/Faizan-Rashid/deep-learning-pytorch/blob/main/extras/exercises/01_pytorch_workflow_exercises.ipynb\" target=\"_parent\"><img src=\"https://colab.research.google.com/assets/colab-badge.svg\" alt=\"Open In Colab\"/></a>"
      ]
    },
    {
      "cell_type": "markdown",
      "source": [
        "# 01. PyTorch Workflow Exercise Template\n",
        "\n",
        "The following is a template for the PyTorch workflow exercises.\n",
        "\n",
        "It's only starter code and it's your job to fill in the blanks.\n",
        "\n",
        "Because of the flexibility of PyTorch, there may be more than one way to answer the question.\n",
        "\n",
        "Don't worry about trying to be *right* just try writing code that suffices the question.\n",
        "\n",
        "You can see one form of [solutions on GitHub](https://github.com/mrdbourke/pytorch-deep-learning/tree/main/extras/solutions) (but try the exercises below yourself first!)."
      ],
      "metadata": {
        "id": "N8LsPXZti9Sw"
      }
    },
    {
      "cell_type": "code",
      "source": [
        "# Import necessary libraries\n",
        "import torch\n",
        "import matplotlib.pyplot as plt\n",
        "import numpy as np\n",
        "\n",
        "torch.__version__"
      ],
      "metadata": {
        "id": "Glu2fM4dkNlx",
        "colab": {
          "base_uri": "https://localhost:8080/",
          "height": 35
        },
        "outputId": "5ef8dd5e-ce40-467e-fce5-0a635c334f36"
      },
      "execution_count": 123,
      "outputs": [
        {
          "output_type": "execute_result",
          "data": {
            "text/plain": [
              "'2.8.0+cu126'"
            ],
            "application/vnd.google.colaboratory.intrinsic+json": {
              "type": "string"
            }
          },
          "metadata": {},
          "execution_count": 123
        }
      ]
    },
    {
      "cell_type": "code",
      "source": [
        "# Setup device-agnostic code\n",
        "device =  \"cuda\" if torch.cuda.is_available() else \"cpu\"\n",
        "device"
      ],
      "metadata": {
        "id": "LqKhXY26m31s",
        "colab": {
          "base_uri": "https://localhost:8080/",
          "height": 35
        },
        "outputId": "e82ca0aa-42dc-4c11-bebc-994f103ae108"
      },
      "execution_count": 124,
      "outputs": [
        {
          "output_type": "execute_result",
          "data": {
            "text/plain": [
              "'cpu'"
            ],
            "application/vnd.google.colaboratory.intrinsic+json": {
              "type": "string"
            }
          },
          "metadata": {},
          "execution_count": 124
        }
      ]
    },
    {
      "cell_type": "markdown",
      "source": [
        "## 1. Create a straight line dataset using the linear regression formula (`weight * X + bias`).\n",
        "  * Set `weight=0.3` and `bias=0.9` there should be at least 100 datapoints total.\n",
        "  * Split the data into 80% training, 20% testing.\n",
        "  * Plot the training and testing data so it becomes visual.\n",
        "\n",
        "Your output of the below cell should look something like:\n",
        "```\n",
        "Number of X samples: 100\n",
        "Number of y samples: 100\n",
        "First 10 X & y samples:\n",
        "X: tensor([0.0000, 0.0100, 0.0200, 0.0300, 0.0400, 0.0500, 0.0600, 0.0700, 0.0800,\n",
        "        0.0900])\n",
        "y: tensor([0.9000, 0.9030, 0.9060, 0.9090, 0.9120, 0.9150, 0.9180, 0.9210, 0.9240,\n",
        "        0.9270])\n",
        "```\n",
        "\n",
        "Of course the numbers in `X` and `y` may be different but ideally they're created using the linear regression formula."
      ],
      "metadata": {
        "id": "g7HUhxCxjeBx"
      }
    },
    {
      "cell_type": "code",
      "source": [
        "# Create the data parameters\n",
        "weight = 0.3\n",
        "bias =  0.9\n",
        "\n",
        "# Make X and y using linear regression feature\n",
        "start = 0\n",
        "end = 1\n",
        "X = torch.tensor(np.linspace(start, end, 100)).unsqueeze(1)\n",
        "y = weight * X + bias\n",
        "print(f\"Number of X samples: {len(X)}\")\n",
        "print(f\"Number of y samples: {len(y)}\")\n",
        "print(f\"First 10 X & y samples:\\nX: {X[:10]}\\ny: {y[:10]}\")"
      ],
      "metadata": {
        "id": "KbDG5MV7jhvE",
        "colab": {
          "base_uri": "https://localhost:8080/"
        },
        "outputId": "06d04246-3531-4971-fc4a-afcb7ef3570b"
      },
      "execution_count": 125,
      "outputs": [
        {
          "output_type": "stream",
          "name": "stdout",
          "text": [
            "Number of X samples: 100\n",
            "Number of y samples: 100\n",
            "First 10 X & y samples:\n",
            "X: tensor([[0.0000],\n",
            "        [0.0101],\n",
            "        [0.0202],\n",
            "        [0.0303],\n",
            "        [0.0404],\n",
            "        [0.0505],\n",
            "        [0.0606],\n",
            "        [0.0707],\n",
            "        [0.0808],\n",
            "        [0.0909]], dtype=torch.float64)\n",
            "y: tensor([[0.9000],\n",
            "        [0.9030],\n",
            "        [0.9061],\n",
            "        [0.9091],\n",
            "        [0.9121],\n",
            "        [0.9152],\n",
            "        [0.9182],\n",
            "        [0.9212],\n",
            "        [0.9242],\n",
            "        [0.9273]], dtype=torch.float64)\n"
          ]
        }
      ]
    },
    {
      "cell_type": "code",
      "source": [
        "# Split the data into training and testing\n",
        "\n",
        "train_len = int(len(X) * 0.8)\n",
        "\n",
        "# training data\n",
        "X_train = X[:train_len].float()\n",
        "y_train = y[:train_len].float()\n",
        "\n",
        "# test data\n",
        "X_test = X[train_len:].float()\n",
        "y_test = y[train_len:].float()\n",
        "\n",
        "\n",
        "\n",
        "len(X_train), len(X_test),"
      ],
      "metadata": {
        "id": "GlwtT1djkmLw",
        "colab": {
          "base_uri": "https://localhost:8080/"
        },
        "outputId": "875ddde5-92e1-43ac-bddb-47f32a243534"
      },
      "execution_count": 126,
      "outputs": [
        {
          "output_type": "execute_result",
          "data": {
            "text/plain": [
              "(80, 20)"
            ]
          },
          "metadata": {},
          "execution_count": 126
        }
      ]
    },
    {
      "cell_type": "code",
      "source": [
        "# Plot the training and testing data\n",
        "def plot_predictions(\n",
        "    train_split = X_train,\n",
        "    train_label = y_train,\n",
        "    test_split = X_test,\n",
        "    test_label = y_test,\n",
        "    predictions = None\n",
        "    ):\n",
        "\n",
        "  # plot training data\n",
        "  plt.scatter(train_split, train_label, s=4, c=\"blue\", label=\"training data\")\n",
        "\n",
        "  # plot testing data\n",
        "  plt.scatter(test_split, test_label, s=4, c=\"green\", label=\"test data\")\n",
        "\n",
        "  # plot predictions of model\n",
        "  if(predictions is not None):\n",
        "    plt.scatter(test_split, predictions, s=4, c=\"red\", label=\"model predictions\")\n",
        "\n",
        "  plt.legend()\n",
        "\n",
        "plot_predictions()"
      ],
      "metadata": {
        "id": "29iQZFNhlYJ-",
        "colab": {
          "base_uri": "https://localhost:8080/",
          "height": 430
        },
        "outputId": "986c2891-e712-4268-e354-106d32a438a2"
      },
      "execution_count": 127,
      "outputs": [
        {
          "output_type": "display_data",
          "data": {
            "text/plain": [
              "<Figure size 640x480 with 1 Axes>"
            ],
            "image/png": "[encoded data removed]"
          },
          "metadata": {}
        }
      ]
    },
    {
      "cell_type": "markdown",
      "source": [
        "## 2. Build a PyTorch model by subclassing `nn.Module`.\n",
        "  * Inside should be a randomly initialized `nn.Parameter()` with `requires_grad=True`, one for `weights` and one for `bias`.\n",
        "  * Implement the `forward()` method to compute the linear regression function you used to create the dataset in 1.\n",
        "  * Once you've constructed the model, make an instance of it and check its `state_dict()`.\n",
        "  * **Note:** If you'd like to use `nn.Linear()` instead of `nn.Parameter()` you can."
      ],
      "metadata": {
        "id": "ImZoe3v8jif8"
      }
    },
    {
      "cell_type": "code",
      "source": [
        "# Create PyTorch linear regression model by subclassing nn.Module\n",
        "from torch import nn\n",
        "\n",
        "class LinearRegressionModel(nn.Module):\n",
        "  def __init__(self):\n",
        "    super().__init__()\n",
        "    self.linear_layer = nn.Linear(in_features=1, out_features=1)\n",
        "\n",
        "  # over-ride forward method for model computation\n",
        "  def forward(self, x:torch.Tensor) -> torch.Tensor:\n",
        "    return self.linear_layer(x)"
      ],
      "metadata": {
        "id": "qzd__Y5rjtB8"
      },
      "execution_count": 128,
      "outputs": []
    },
    {
      "cell_type": "code",
      "source": [
        "# Instantiate the model and put it to the target device\n",
        "torch.manual_seed(42)\n",
        "\n",
        "model_0 = LinearRegressionModel()\n",
        "\n",
        "next(model_0.parameters()).to(device)\n",
        "\n",
        "model_0.state_dict()"
      ],
      "metadata": {
        "id": "5LdcDnmOmyQ2",
        "colab": {
          "base_uri": "https://localhost:8080/"
        },
        "outputId": "74a2e913-30b9-413d-cdde-a6be1e28d7a5"
      },
      "execution_count": 129,
      "outputs": [
        {
          "output_type": "execute_result",
          "data": {
            "text/plain": [
              "OrderedDict([('linear_layer.weight', tensor([[0.7645]])),\n",
              "             ('linear_layer.bias', tensor([0.8300]))])"
            ]
          },
          "metadata": {},
          "execution_count": 129
        }
      ]
    },
    {
      "cell_type": "code",
      "source": [
        "model_0.eval()\n",
        "with torch.inference_mode():\n",
        "  untrained_model_0_preds = model_0(X_test)\n",
        "plot_predictions(predictions=untrained_model_0_preds)"
      ],
      "metadata": {
        "colab": {
          "base_uri": "https://localhost:8080/",
          "height": 430
        },
        "id": "1I2Tc919uv7H",
        "outputId": "425ca99d-7fa1-4db5-9ce0-392754179df8"
      },
      "execution_count": 130,
      "outputs": [
        {
          "output_type": "display_data",
          "data": {
            "text/plain": [
              "<Figure size 640x480 with 1 Axes>"
            ],
            "image/png": "[encoded data removed]"
          },
          "metadata": {}
        }
      ]
    },
    {
      "cell_type": "markdown",
      "source": [
        "## 3. Create a loss function and optimizer using `nn.L1Loss()` and `torch.optim.SGD(params, lr)` respectively.\n",
        "  * Set the learning rate of the optimizer to be 0.01 and the parameters to optimize should be the model parameters from the model you created in 2.\n",
        "  * Write a training loop to perform the appropriate training steps for 300 epochs.\n",
        "  * The training loop should test the model on the test dataset every 20 epochs."
      ],
      "metadata": {
        "id": "G6nYOrJhjtfu"
      }
    },
    {
      "cell_type": "code",
      "source": [
        "model_0.state_dict(), next(model_0.parameters()).dtype, X_train.dtype"
      ],
      "metadata": {
        "colab": {
          "base_uri": "https://localhost:8080/"
        },
        "id": "CAMG4-y7dp41",
        "outputId": "c3d3d83e-f80d-423b-f306-a3d0ad7597df"
      },
      "execution_count": 131,
      "outputs": [
        {
          "output_type": "execute_result",
          "data": {
            "text/plain": [
              "(OrderedDict([('linear_layer.weight', tensor([[0.7645]])),\n",
              "              ('linear_layer.bias', tensor([0.8300]))]),\n",
              " torch.float32,\n",
              " torch.float32)"
            ]
          },
          "metadata": {},
          "execution_count": 131
        }
      ]
    },
    {
      "cell_type": "code",
      "source": [
        "# Create the loss function and optimizer\n",
        "\n",
        "# loss function\n",
        "loss_fn = nn.L1Loss()\n",
        "\n",
        "# optimizer\n",
        "optimizer = torch.optim.SGD(params=model_0.parameters(), lr=0.01)"
      ],
      "metadata": {
        "id": "ltvoZ-FWjv1j"
      },
      "execution_count": 132,
      "outputs": []
    },
    {
      "cell_type": "code",
      "source": [
        "torch.manual_seed(42)\n",
        "\n",
        "# Training loop\n",
        "\n",
        "# Train model for 300 epochs\n",
        "epochs = 300\n",
        "\n",
        "# Send data to target device\n",
        "# X_train = X_train.to(device)\n",
        "\n",
        "for epoch in range(epochs):\n",
        "  ### Training\n",
        "\n",
        "  # Put model in train mode\n",
        "  model_0.train()\n",
        "\n",
        "  # 1. Forward pass\n",
        "  model_train_preds = model_0(X_train)\n",
        "\n",
        "  # 2. Calculate loss\n",
        "  train_loss = loss_fn(model_train_preds, y_train)\n",
        "\n",
        "  # 3. Zero gradients\n",
        "  optimizer.zero_grad()\n",
        "\n",
        "  # 4. Backpropagation\n",
        "  train_loss.backward()\n",
        "\n",
        "  # 5. Step the optimizer\n",
        "  optimizer.step()\n",
        "\n",
        "  ### Perform testing every 20 epochs\n",
        "  if epoch % 20 == 0:\n",
        "\n",
        "    # Put model in evaluation mode and setup inference context\n",
        "    model_0.eval()\n",
        "    with torch.inference_mode():\n",
        "\n",
        "      # 1. Forward pass\n",
        "      model_test_preds = model_0(X_test)\n",
        "      # 2. Calculate test loss\n",
        "      test_loss = loss_fn(model_test_preds, y_test)\n",
        "      # Print out what's happening\n",
        "      print(f\"Epoch: {epoch} | Train loss: {train_loss:.3f} | Test loss: {test_loss:.3f}\")"
      ],
      "metadata": {
        "id": "xpE83NvNnkdV",
        "colab": {
          "base_uri": "https://localhost:8080/"
        },
        "outputId": "c67e6ad0-9f95-4679-a620-317249db909b"
      },
      "execution_count": 133,
      "outputs": [
        {
          "output_type": "stream",
          "name": "stdout",
          "text": [
            "Epoch: 0 | Train loss: 0.129 | Test loss: 0.340\n",
            "Epoch: 20 | Train loss: 0.083 | Test loss: 0.220\n",
            "Epoch: 40 | Train loss: 0.073 | Test loss: 0.176\n",
            "Epoch: 60 | Train loss: 0.065 | Test loss: 0.154\n",
            "Epoch: 80 | Train loss: 0.058 | Test loss: 0.137\n",
            "Epoch: 100 | Train loss: 0.051 | Test loss: 0.121\n",
            "Epoch: 120 | Train loss: 0.045 | Test loss: 0.104\n",
            "Epoch: 140 | Train loss: 0.038 | Test loss: 0.088\n",
            "Epoch: 160 | Train loss: 0.031 | Test loss: 0.072\n",
            "Epoch: 180 | Train loss: 0.024 | Test loss: 0.055\n",
            "Epoch: 200 | Train loss: 0.017 | Test loss: 0.038\n",
            "Epoch: 220 | Train loss: 0.010 | Test loss: 0.022\n",
            "Epoch: 240 | Train loss: 0.003 | Test loss: 0.005\n",
            "Epoch: 260 | Train loss: 0.009 | Test loss: 0.003\n",
            "Epoch: 280 | Train loss: 0.009 | Test loss: 0.003\n"
          ]
        }
      ]
    },
    {
      "cell_type": "markdown",
      "source": [
        "## 4. Make predictions with the trained model on the test data.\n",
        "  * Visualize these predictions against the original training and testing data (**note:** you may need to make sure the predictions are *not* on the GPU if you want to use non-CUDA-enabled libraries such as matplotlib to plot)."
      ],
      "metadata": {
        "id": "x4j4TM18jwa7"
      }
    },
    {
      "cell_type": "code",
      "source": [
        "# Make predictions with the model\n",
        "model_0.eval()\n",
        "with torch.inference_mode():\n",
        "  trained_preds = model_0(X_test)"
      ],
      "metadata": {
        "id": "bbMPK5Qjjyx_"
      },
      "execution_count": 134,
      "outputs": []
    },
    {
      "cell_type": "code",
      "source": [
        "# Plot the predictions (these may need to be on a specific device)\n",
        "plot_predictions(predictions=trained_preds)"
      ],
      "metadata": {
        "id": "K3BdmQaDpFo8",
        "colab": {
          "base_uri": "https://localhost:8080/",
          "height": 430
        },
        "outputId": "5109a8e0-cbbf-48b3-90b4-cfe2bb5a6adc"
      },
      "execution_count": 135,
      "outputs": [
        {
          "output_type": "display_data",
          "data": {
            "text/plain": [
              "<Figure size 640x480 with 1 Axes>"
            ],
            "image/png": "[encoded data removed]"
          },
          "metadata": {}
        }
      ]
    },
    {
      "cell_type": "code",
      "source": [
        "model_0.state_dict(), weight, bias"
      ],
      "metadata": {
        "colab": {
          "base_uri": "https://localhost:8080/"
        },
        "id": "K6oEAq_ToRo1",
        "outputId": "d14d12d4-7023-4967-ba0f-090b96c7d520"
      },
      "execution_count": 136,
      "outputs": [
        {
          "output_type": "execute_result",
          "data": {
            "text/plain": [
              "(OrderedDict([('linear_layer.weight', tensor([[0.2982]])),\n",
              "              ('linear_layer.bias', tensor([0.8913]))]),\n",
              " 0.3,\n",
              " 0.9)"
            ]
          },
          "metadata": {},
          "execution_count": 136
        }
      ]
    },
    {
      "cell_type": "markdown",
      "source": [
        "## 5. Save your trained model's `state_dict()` to file.\n",
        "  * Create a new instance of your model class you made in 2. and load in the `state_dict()` you just saved to it.\n",
        "  * Perform predictions on your test data with the loaded model and confirm they match the original model predictions from 4."
      ],
      "metadata": {
        "id": "s2OnlMWKjzX8"
      }
    },
    {
      "cell_type": "code",
      "source": [
        "from pathlib import Path\n",
        "\n",
        "# 1. Create models directory\n",
        "model = Path(\"models\")\n",
        "model.mkdir(parents=True, exist_ok=True)\n",
        "\n",
        "# 2. Create model save path\n",
        "MODEL_NAME = \"practice_model_0\"\n",
        "MODEL_SAVE_PATH = model / MODEL_NAME\n",
        "# 3. Save the model state dict\n",
        "torch.save(obj=model_0.state_dict(), f=MODEL_SAVE_PATH)"
      ],
      "metadata": {
        "id": "hgxhgD14qr-i"
      },
      "execution_count": 137,
      "outputs": []
    },
    {
      "cell_type": "code",
      "source": [
        "# Create new instance of model and load saved state dict (make sure to put it on the target device)\n",
        "saved_model = LinearRegressionModel()\n",
        "\n",
        "saved_model.load_state_dict(torch.load(MODEL_SAVE_PATH))"
      ],
      "metadata": {
        "id": "P9vTgiLRrJ7T",
        "colab": {
          "base_uri": "https://localhost:8080/"
        },
        "outputId": "9c1a6a9e-423e-41db-f682-b49e35aade5e"
      },
      "execution_count": 138,
      "outputs": [
        {
          "output_type": "execute_result",
          "data": {
            "text/plain": [
              "<All keys matched successfully>"
            ]
          },
          "metadata": {},
          "execution_count": 138
        }
      ]
    },
    {
      "cell_type": "code",
      "source": [
        "# Make predictions with loaded model and compare them to the previous\n",
        "saved_model.state_dict() == model_0.state_dict()"
      ],
      "metadata": {
        "id": "8UGX3VebrVtI",
        "colab": {
          "base_uri": "https://localhost:8080/"
        },
        "outputId": "29853a65-905e-4857-d845-d832ce7898d2"
      },
      "execution_count": 139,
      "outputs": [
        {
          "output_type": "execute_result",
          "data": {
            "text/plain": [
              "True"
            ]
          },
          "metadata": {},
          "execution_count": 139
        }
      ]
    },
    {
      "cell_type": "code",
      "source": [
        "saved_model.eval()\n",
        "with torch.inference_mode():\n",
        "  saved_model_preds = saved_model(X_test)\n",
        "\n",
        "plot_predictions(predictions=saved_model_preds)"
      ],
      "metadata": {
        "colab": {
          "base_uri": "https://localhost:8080/",
          "height": 430
        },
        "id": "tKHxZEqpuU1m",
        "outputId": "0e87c13c-0a16-491c-fa16-3d98807d00a7"
      },
      "execution_count": 140,
      "outputs": [
        {
          "output_type": "display_data",
          "data": {
            "text/plain": [
              "<Figure size 640x480 with 1 Axes>"
            ],
            "image/png": "[encoded data removed]"
          },
          "metadata": {}
        }
      ]
    }
  ]
}